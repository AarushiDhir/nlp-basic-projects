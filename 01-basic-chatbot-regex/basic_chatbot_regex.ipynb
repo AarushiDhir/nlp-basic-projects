{
  "nbformat": 4,
  "nbformat_minor": 0,
  "metadata": {
    "colab": {
      "name": "basic-chatbot.ipynb",
      "provenance": [],
      "collapsed_sections": []
    },
    "kernelspec": {
      "name": "python3",
      "display_name": "Python 3"
    },
    "language_info": {
      "name": "python"
    }
  },
  "cells": [
    {
      "cell_type": "code",
      "metadata": {
        "id": "e2OUaH_WBjVw"
      },
      "source": [
        "#restaurant booking chatbot \n",
        "import re \n",
        "for i in range(4):\n",
        "  user = input(\"Hi there! How can I help you today?\\n\")\n",
        "\n",
        "  q=re.search(\"[Oo]pen\",user)\n",
        "  r=re.search(\"right now\",user)\n",
        "  s=re.search(\"([Cc]los(e|ing))|([Tt]im(e|ing|ings))\",user)\n",
        "  if(q and r):\n",
        "    print(\"Yes, the restaurant is open for two more hours today\\n\")\n",
        "  if(q and s):\n",
        "    print(\"The restaurant timings are- 10am to 11pm\\n\")\n",
        "\n",
        "  q=re.search(\"(chef[\\'s]*)|(special)\",user)\n",
        "  if(q):\n",
        "    print(\"Today's chef's special is Risotto\\n\")\n",
        "\n",
        "  q=re.search(\"([Bb]ook(ing)*)|([Rr]eserv(e|ing))\",user)\n",
        "  if(q):\n",
        "    people=input(\"How many people will be joining us? (seating for upto 9)\\n\")\n",
        "    persons= re.search(\"[0-9]\",people)\n",
        "    time=input(\"What time do you want to make the reservation for? (hh:mm am/pm format) \\n\") \n",
        "    booking= re.search(\"(([0-9] | [0-1][0-2])(:)[0-5][0-9]) ?([Aa][Mm] | [Pp][Mm])\", time) \n",
        "    name=input(\"Please enter your name: \\n\") \n",
        "    print(\"Table for\", people, \"confirmed at\", time, \"under the name-\", name, \"\\nHope you have a great experience dining with us!\\n\")\n",
        "\n",
        "  q= re.search(\"([Hh]ome)|([Dd]eliv(er|ery))\", user)\n",
        "  if(q):\n",
        "    print(\"Yes, for home delivery call 12345 or download our app\\n\")\n",
        "\n",
        "  q= re.search(\"([Bb]ye)|([Qq]uit)|([eE]xit)\", user)\n",
        "  if(q):\n",
        "    print(\"Thanks you! for any more questions call 123456\\n\")\n",
        "    break;"
      ],
      "execution_count": null,
      "outputs": []
    }
  ]
}